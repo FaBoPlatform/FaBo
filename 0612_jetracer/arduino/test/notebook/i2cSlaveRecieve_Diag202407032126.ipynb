{
 "cells": [
  {
   "cell_type": "markdown",
   "id": "a7c8ff66",
   "metadata": {},
   "source": [
    "# FaBo JetRacer PWM受信検査用コード\n",
    "### Version 2.0.2 (2024/07/03)"
   ]
  },
  {
   "cell_type": "markdown",
   "id": "0078f0ca",
   "metadata": {},
   "source": [
    "## EPS32S3DevKitが取得する信号をPRINT出力します。\n",
    "### ステアリング値はPCA9685,車体によってアライメントが変わるのでその時によります。\n",
    "### スロットル値は、おおよそ1520(タミヤ製）\n",
    "### 信号切り替え値は、おおよそRCモードが約1000,AIモード約2000となります\n",
    "### 受信バイト32バイト\n",
    "### DevKit専用です。"
   ]
  },
  {
   "cell_type": "markdown",
   "id": "6c7f111c",
   "metadata": {},
   "source": [
    "# ボードのファームウェアバージョン及びボードバージョンの取得\n",
    "##　ESP32S3のI2Cにおいて何故か受信よりも送信が先に呼ばれるので、最初の取得データは捨てた方がいいのかも？"
   ]
  },
  {
   "cell_type": "code",
   "execution_count": null,
   "id": "8f08e80f",
   "metadata": {},
   "outputs": [],
   "source": [
    "import time\n",
    "import smbus\n",
    "SMBUS='smbus'\n",
    "I2C_BUSNUM = 1\n",
    "BUSNUM=I2C_BUSNUM\n",
    "\n",
    "i2c = smbus.SMBus(I2C_BUSNUM)\n",
    "addr = 0x08\n",
    "data1 = i2c.read_i2c_block_data(addr, 0x00, 32)\n",
    "print(\"Board Revision:\" + str(data1[0]) + \".\" + str(data1[1])  + \".\" +  str(data1[2]))\n",
    "print(\"Firmware Version:\" + str(data1[3]))"
   ]
  },
  {
   "cell_type": "code",
   "execution_count": null,
   "id": "73407309",
   "metadata": {},
   "outputs": [],
   "source": [
    "import time\n",
    "import smbus\n",
    "from IPython.display import clear_output\n",
    "\n",
    "SMBUS='smbus'\n",
    "I2C_BUSNUM = 1\n",
    "BUSNUM=I2C_BUSNUM\n",
    "\n",
    "i2c = smbus.SMBus(I2C_BUSNUM)\n",
    "addr = 0x08\n",
    "\n",
    "count = 0\n",
    "print(\"ステアリング(uS),スロットル(uS),信号切り替え(uS),ブラシレスセンサー1(rpm),ブラシレスセンサー2(rpm),ブラシレスセンサー3(rpm),回転回数(回転),回転向き(0or1)\")\n",
    "while True:\n",
    "    data1 = i2c.read_i2c_block_data(addr, 0x01, 32)\n",
    "    raw1 = data1[0] << 24 | data1[1] << 16 | data1[2] << 8| data1[3]\n",
    "    raw2 = data1[4] << 24 | data1[5] << 16 | data1[6] << 8| data1[7]\n",
    "    raw3 = data1[8] << 24 | data1[9] << 16 | data1[10] << 8| data1[11]\n",
    "    raw4 = data1[12] << 24 | data1[13] << 16 | data1[14] << 8| data1[15]\n",
    "    raw5 = data1[16] << 24 | data1[17] << 16 | data1[18] << 8| data1[19]\n",
    "    raw6 = data1[20] << 24 | data1[21] << 16 | data1[22] << 8| data1[23]\n",
    "    raw7 = data1[24] << 24 | data1[25] << 16 | data1[26] << 8| data1[27]\n",
    "    raw8 = data1[28] << 24 | data1[29] << 16 | data1[30] << 8| data1[31]\n",
    "    \n",
    "    print('{},{},{},{},{},{},{},{}'.format(raw1,raw2,raw3,raw4,raw5,raw6,raw7,raw8))\n",
    "    count += 1\n",
    "    if count>=10:\n",
    "        clear_output(True)\n",
    "        count = 0\n",
    "        "
   ]
  },
  {
   "cell_type": "markdown",
   "id": "725eb831",
   "metadata": {},
   "source": [
    "## 外部LEDの色を変更いたします。"
   ]
  },
  {
   "cell_type": "code",
   "execution_count": null,
   "id": "175c40ed",
   "metadata": {},
   "outputs": [],
   "source": [
    "a = i2c.read_i2c_block_data(addr,0x1a,32) #赤"
   ]
  },
  {
   "cell_type": "code",
   "execution_count": null,
   "id": "dee962ce",
   "metadata": {},
   "outputs": [],
   "source": [
    "a = i2c.read_i2c_block_data(addr,0x1b,32) #青"
   ]
  },
  {
   "cell_type": "code",
   "execution_count": null,
   "id": "b077a822",
   "metadata": {},
   "outputs": [],
   "source": [
    "a = i2c.read_i2c_block_data(addr,0x1c,32) #黄色"
   ]
  },
  {
   "cell_type": "code",
   "execution_count": null,
   "id": "24f4b5fd",
   "metadata": {},
   "outputs": [],
   "source": [
    "a = i2c.read_i2c_block_data(addr,0x1d,32) #緑"
   ]
  },
  {
   "cell_type": "code",
   "execution_count": null,
   "id": "ce5ba95c",
   "metadata": {},
   "outputs": [],
   "source": [
    "a = i2c.read_i2c_block_data(addr,0x1e,32) #白"
   ]
  },
  {
   "cell_type": "code",
   "execution_count": null,
   "id": "895e6c0d",
   "metadata": {},
   "outputs": [],
   "source": [
    "a = i2c.read_i2c_block_data(addr,0x1f,32) #橙色"
   ]
  },
  {
   "cell_type": "code",
   "execution_count": null,
   "id": "2fcc4a1b",
   "metadata": {},
   "outputs": [],
   "source": [
    "a = i2c.read_i2c_block_data(addr,0x20,32) #マゼンタ"
   ]
  },
  {
   "cell_type": "code",
   "execution_count": null,
   "id": "a62e9ada",
   "metadata": {},
   "outputs": [],
   "source": [
    "a = i2c.read_i2c_block_data(addr,0x21,32) #黄緑"
   ]
  },
  {
   "cell_type": "code",
   "execution_count": null,
   "id": "5dc61612",
   "metadata": {},
   "outputs": [],
   "source": [
    "a = i2c.read_i2c_block_data(addr,0x22,32) #ピンク"
   ]
  },
  {
   "cell_type": "code",
   "execution_count": null,
   "id": "619f78b8",
   "metadata": {},
   "outputs": [],
   "source": [
    "a = i2c.read_i2c_block_data(addr,0x30,32) #消灯"
   ]
  },
  {
   "cell_type": "code",
   "execution_count": null,
   "id": "d1aa7358",
   "metadata": {},
   "outputs": [],
   "source": [
    "a = i2c.read_i2c_block_data(addr,0x10,32) #通常に戻る"
   ]
  },
  {
   "cell_type": "code",
   "execution_count": null,
   "id": "c63e2197",
   "metadata": {},
   "outputs": [],
   "source": []
  },
  {
   "cell_type": "code",
   "execution_count": null,
   "id": "6f0b4abb",
   "metadata": {},
   "outputs": [],
   "source": []
  }
 ],
 "metadata": {
  "kernelspec": {
   "display_name": "Python 3",
   "language": "python",
   "name": "python3"
  },
  "language_info": {
   "codemirror_mode": {
    "name": "ipython",
    "version": 3
   },
   "file_extension": ".py",
   "mimetype": "text/x-python",
   "name": "python",
   "nbconvert_exporter": "python",
   "pygments_lexer": "ipython3",
   "version": "3.6.9"
  }
 },
 "nbformat": 4,
 "nbformat_minor": 5
}
