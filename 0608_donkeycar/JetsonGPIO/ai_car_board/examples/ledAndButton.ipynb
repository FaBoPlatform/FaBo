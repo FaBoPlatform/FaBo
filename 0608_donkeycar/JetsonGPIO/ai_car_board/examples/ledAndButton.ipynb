{
 "cells": [
  {
   "cell_type": "markdown",
   "id": "837dafce-8a23-4b86-9ea7-55fa9379116a",
   "metadata": {},
   "source": [
    "## FaBo AI Car BoardのGPIO Test"
   ]
  },
  {
   "cell_type": "markdown",
   "id": "2acd5d50-1b7b-45f6-9631-770f46bd3b06",
   "metadata": {},
   "source": [
    "Jetson GPIOバージョンチェック"
   ]
  },
  {
   "cell_type": "code",
   "execution_count": null,
   "id": "a0702bae-d9e9-4055-a220-aca8afaec093",
   "metadata": {},
   "outputs": [],
   "source": [
    "!pip3 show Jetson.GPIO"
   ]
  },
  {
   "cell_type": "markdown",
   "id": "dffce082-8c25-40de-b672-34efc77c7b84",
   "metadata": {},
   "source": [
    "GPIO出力ピンのチェック　LEDに繋ぐ場合は、必ずトランジスタかMOSーFETで電流を増幅させる。"
   ]
  },
  {
   "cell_type": "code",
   "execution_count": null,
   "id": "c47f0310-874b-455d-91eb-e513874dfe04",
   "metadata": {},
   "outputs": [],
   "source": [
    "import Jetson.GPIO as GPIO\n",
    "import time\n",
    "\n",
    "# 物理ピン マッピング\n",
    "pins = [12, 16, 18, 22, 32, 36, 38 ,40]\n",
    "\n",
    "# GPIO 初期化\n",
    "GPIO.setmode(GPIO.BOARD)\n",
    "for pin in pins:\n",
    "    GPIO.setup(pin, GPIO.OUT)\n",
    "\n",
    "try:\n",
    "    while True:\n",
    "        # 点灯\n",
    "        for pin in pins:\n",
    "            GPIO.output(pin, GPIO.HIGH)\n",
    "        time.sleep(0.5)\n",
    "\n",
    "        # 消灯\n",
    "        for pin in pins:\n",
    "            GPIO.output(pin, GPIO.LOW)\n",
    "        time.sleep(0.5)\n",
    "\n",
    "except KeyboardInterrupt:\n",
    "    print(\"終了中...\")\n",
    "\n",
    "finally:\n",
    "    GPIO.cleanup()\n"
   ]
  },
  {
   "cell_type": "markdown",
   "id": "2408d1b5-8f7d-40f4-8cb3-a58d1b2aac5b",
   "metadata": {},
   "source": [
    "入力ピンのテスト　ボタンを用意します。入力電圧は3.3V~2.0Vで必ず入力します。"
   ]
  },
  {
   "cell_type": "code",
   "execution_count": null,
   "id": "34be17c8-8e20-4265-ac43-c4d0851c1f15",
   "metadata": {},
   "outputs": [],
   "source": [
    "import Jetson.GPIO as GPIO\n",
    "import time\n",
    "from IPython.display import display, clear_output, Markdown\n",
    "\n",
    "# 物理ピンと BCM GPIO 番号のマッピング\n",
    "pin_map = {\n",
    "    11: 17,\n",
    "    13: 27,\n",
    "    15: 22,\n",
    "    29: 5,\n",
    "    31: 6,\n",
    "    33: 13,\n",
    "    35: 19,\n",
    "    37: 26\n",
    "}\n",
    "\n",
    "# 押下カウント記録用\n",
    "press_counts = {pin: 0 for pin in pin_map}\n",
    "\n",
    "# GPIO初期化\n",
    "GPIO.setmode(GPIO.BCM)\n",
    "for gpio in pin_map.values():\n",
    "    GPIO.setup(gpio, GPIO.IN, pull_up_down=GPIO.PUD_UP)\n",
    "\n",
    "# コールバック関数\n",
    "def button_callback(channel):\n",
    "    for pin, gpio in pin_map.items():\n",
    "        if channel == gpio:\n",
    "            press_counts[pin] += 1\n",
    "            clear_output(wait=True)\n",
    "            output_lines = [f\"### 🔘 ボタン押下情報\"]\n",
    "            for p in sorted(press_counts.keys()):\n",
    "                output_lines.append(f\"- 物理ピン {p}（GPIO {pin_map[p]}）: **{press_counts[p]} 回**\")\n",
    "            display(Markdown('\\n'.join(output_lines)))\n",
    "            break\n",
    "\n",
    "# 割り込みの設定\n",
    "for gpio in pin_map.values():\n",
    "    GPIO.add_event_detect(gpio, GPIO.FALLING, callback=button_callback, bouncetime=300)\n",
    "\n",
    "print(\"ボタン押下をカウント中...（Ctrl+C または GPIO.cleanup() で終了）\")\n"
   ]
  },
  {
   "cell_type": "code",
   "execution_count": null,
   "id": "eeeddb78-c864-435b-9dcd-8a4e121eb654",
   "metadata": {},
   "outputs": [],
   "source": []
  }
 ],
 "metadata": {
  "kernelspec": {
   "display_name": "Python 3 (ipykernel)",
   "language": "python",
   "name": "python3"
  },
  "language_info": {
   "codemirror_mode": {
    "name": "ipython",
    "version": 3
   },
   "file_extension": ".py",
   "mimetype": "text/x-python",
   "name": "python",
   "nbconvert_exporter": "python",
   "pygments_lexer": "ipython3",
   "version": "3.10.12"
  }
 },
 "nbformat": 4,
 "nbformat_minor": 5
}
