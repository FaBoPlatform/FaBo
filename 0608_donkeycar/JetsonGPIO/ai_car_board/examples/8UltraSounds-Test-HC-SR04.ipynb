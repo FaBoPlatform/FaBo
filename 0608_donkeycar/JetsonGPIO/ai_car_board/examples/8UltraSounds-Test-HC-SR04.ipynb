{
 "cells": [
  {
   "cell_type": "markdown",
   "id": "9a9ea492-87c0-40f9-9144-56ab6b2f1054",
   "metadata": {},
   "source": [
    "# 超音波センサーチェック　ｃｈ８\n",
    "\n",
    "各チャンネルＥｃｈｏ端子は、入力電圧範囲は２．９０Ｖ～３．４０Ｖ内であること"
   ]
  },
  {
   "cell_type": "code",
   "execution_count": 1,
   "id": "ff34d17e-5884-4779-acdb-d91bfe86e66d",
   "metadata": {},
   "outputs": [
    {
     "name": "stdout",
     "output_type": "stream",
     "text": [
      "センサー 1: 36.1 cm\n",
      "センサー 2: 48.18 cm\n",
      "センサー 3: 68.14 cm\n",
      "センサー 4: 16.63 cm\n",
      "センサー 5: 16.37 cm\n",
      "センサー 6: 17.59 cm\n",
      "センサー 7: 42.13 cm\n",
      "センサー 8: 27.85 cm\n",
      "------------------------------\n",
      "測定を停止します\n"
     ]
    }
   ],
   "source": [
    "import Jetson.GPIO as GPIO\n",
    "import time\n",
    "from IPython.display import clear_output  # Jupyter Lab用\n",
    "\n",
    "# GPIOのモードをボード物理ピンに設定\n",
    "GPIO.setmode(GPIO.BOARD)\n",
    "GPIO.setwarnings(False)\n",
    "\n",
    "# 各HC-SR04センサーのトリガーとエコーピンをリストで定義\n",
    "# ※ 下記のGPIO番号は一例です。実際の配線に合わせて変更してください。\n",
    "sensors = [\n",
    "    {\"trigger\": 12, \"echo\": 11},\n",
    "    {\"trigger\": 16, \"echo\": 13},\n",
    "    {\"trigger\": 18, \"echo\": 15},\n",
    "    {\"trigger\": 22, \"echo\": 29},\n",
    "    {\"trigger\": 32, \"echo\": 31},\n",
    "    {\"trigger\": 36, \"echo\": 33},\n",
    "    {\"trigger\": 38, \"echo\": 35},\n",
    "    {\"trigger\": 40, \"echo\": 37}\n",
    "]\n",
    "\n",
    "# 各センサーのGPIOピンのセットアップ\n",
    "for sensor in sensors:\n",
    "    GPIO.setup(sensor[\"trigger\"], GPIO.OUT)\n",
    "    GPIO.setup(sensor[\"echo\"], GPIO.IN)\n",
    "    # トリガーは初期状態LOWにしておく\n",
    "    GPIO.output(sensor[\"trigger\"], False)\n",
    "\n",
    "def measure_distance(trigger_pin, echo_pin):\n",
    "    \"\"\"\n",
    "    指定されたトリガーとエコーピンを用いて距離を計測する関数\n",
    "    \"\"\"\n",
    "    # トリガーを一度LOWにしてセンサーを安定させる\n",
    "    GPIO.output(trigger_pin, False)\n",
    "    time.sleep(0.0002)  # 200マイクロ秒待機\n",
    "\n",
    "    # トリガーに10マイクロ秒のパルスを送信\n",
    "    GPIO.output(trigger_pin, True)\n",
    "    time.sleep(0.00001)  # 10マイクロ秒\n",
    "    GPIO.output(trigger_pin, False)\n",
    "\n",
    "    # エコーがHIGHになるのを待つ（パルス開始時間）\n",
    "    pulse_start = time.time()\n",
    "    timeout = pulse_start + 0.04  # 40msタイムアウト\n",
    "    while GPIO.input(echo_pin) == 0 and time.time() < timeout:\n",
    "        pulse_start = time.time()\n",
    "\n",
    "    # エコーがLOWになるのを待つ（パルス終了時間）\n",
    "    pulse_end = time.time()\n",
    "    timeout = pulse_end + 0.04  # 40msタイムアウト\n",
    "    while GPIO.input(echo_pin) == 1 and time.time() < timeout:\n",
    "        pulse_end = time.time()\n",
    "\n",
    "    # パルスの時間（往復時間）\n",
    "    pulse_duration = pulse_end - pulse_start\n",
    "\n",
    "    # 距離の計算（音速=34300 cm/s、往復なので2で割る）\n",
    "    distance = pulse_duration * 17150  # (34300/2) = 17150\n",
    "    distance = round(distance, 2)\n",
    "    return distance\n",
    "\n",
    "try:\n",
    "    while True:\n",
    "        clear_output(wait=True)\n",
    "        # 各センサーごとに距離を計測\n",
    "        for i, sensor in enumerate(sensors):\n",
    "            distance = measure_distance(sensor[\"trigger\"], sensor[\"echo\"])\n",
    "            print(f\"センサー {i+1}: {distance} cm\")\n",
    "        print(\"-\" * 30)\n",
    "        time.sleep(0.3)  # 1秒間隔で更新\n",
    "\n",
    "except KeyboardInterrupt:\n",
    "    print(\"測定を停止します\")\n",
    "    GPIO.cleanup()\n"
   ]
  },
  {
   "cell_type": "code",
   "execution_count": null,
   "id": "40b29e82-6d6e-4ebe-9bad-85e1fddd5679",
   "metadata": {},
   "outputs": [],
   "source": []
  },
  {
   "cell_type": "code",
   "execution_count": null,
   "id": "c8ab49fc-4e9c-4976-91a4-b6a2399cbca9",
   "metadata": {},
   "outputs": [],
   "source": []
  }
 ],
 "metadata": {
  "kernelspec": {
   "display_name": "Python 3 (ipykernel)",
   "language": "python",
   "name": "python3"
  },
  "language_info": {
   "codemirror_mode": {
    "name": "ipython",
    "version": 3
   },
   "file_extension": ".py",
   "mimetype": "text/x-python",
   "name": "python",
   "nbconvert_exporter": "python",
   "pygments_lexer": "ipython3",
   "version": "3.10.12"
  }
 },
 "nbformat": 4,
 "nbformat_minor": 5
}
